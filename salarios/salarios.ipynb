{
 "cells": [
  {
   "cell_type": "markdown",
   "metadata": {},
   "source": [
    "# Diferencia de salarios entre hombres y mujeres"
   ]
  },
  {
   "cell_type": "code",
   "execution_count": 344,
   "metadata": {},
   "outputs": [],
   "source": [
    "# librerias\n",
    "import pandas as pd\n",
    "from scipy import stats"
   ]
  },
  {
   "cell_type": "code",
   "execution_count": 282,
   "metadata": {},
   "outputs": [
    {
     "name": "stdout",
     "output_type": "stream",
     "text": [
      "<class 'pandas.core.frame.DataFrame'>\n",
      "RangeIndex: 174 entries, 0 to 173\n",
      "Data columns (total 10 columns):\n",
      " #   Column           Non-Null Count  Dtype         \n",
      "---  ------           --------------  -----         \n",
      " 0   Apellido         174 non-null    object        \n",
      " 1   Nombre           174 non-null    object        \n",
      " 2   Edad             174 non-null    int64         \n",
      " 3   Género           174 non-null    object        \n",
      " 4   Pais             174 non-null    object        \n",
      " 5   Etnia            174 non-null    object        \n",
      " 6   Fecha_de_inicio  174 non-null    datetime64[ns]\n",
      " 7   Departamento     174 non-null    object        \n",
      " 8   Posición         174 non-null    object        \n",
      " 9   Salario          174 non-null    float64       \n",
      "dtypes: datetime64[ns](1), float64(1), int64(1), object(7)\n",
      "memory usage: 13.7+ KB\n"
     ]
    }
   ],
   "source": [
    "data.info()"
   ]
  },
  {
   "cell_type": "code",
   "execution_count": 283,
   "metadata": {},
   "outputs": [
    {
     "data": {
      "text/html": [
       "<div>\n",
       "<style scoped>\n",
       "    .dataframe tbody tr th:only-of-type {\n",
       "        vertical-align: middle;\n",
       "    }\n",
       "\n",
       "    .dataframe tbody tr th {\n",
       "        vertical-align: top;\n",
       "    }\n",
       "\n",
       "    .dataframe thead th {\n",
       "        text-align: right;\n",
       "    }\n",
       "</style>\n",
       "<table border=\"1\" class=\"dataframe\">\n",
       "  <thead>\n",
       "    <tr style=\"text-align: right;\">\n",
       "      <th></th>\n",
       "      <th>Apellido</th>\n",
       "      <th>Nombre</th>\n",
       "      <th>Edad</th>\n",
       "      <th>Género</th>\n",
       "      <th>Pais</th>\n",
       "      <th>Etnia</th>\n",
       "      <th>Fecha_de_inicio</th>\n",
       "      <th>Departamento</th>\n",
       "      <th>Posición</th>\n",
       "      <th>Salario</th>\n",
       "    </tr>\n",
       "  </thead>\n",
       "  <tbody>\n",
       "    <tr>\n",
       "      <th>0</th>\n",
       "      <td>Martin</td>\n",
       "      <td>Sandra</td>\n",
       "      <td>30</td>\n",
       "      <td>Femenino</td>\n",
       "      <td>EE.UU.</td>\n",
       "      <td>Asiática</td>\n",
       "      <td>2013-11-11</td>\n",
       "      <td>Ingeniería de Software</td>\n",
       "      <td>Ingeniero de ventas</td>\n",
       "      <td>115460.8</td>\n",
       "    </tr>\n",
       "    <tr>\n",
       "      <th>1</th>\n",
       "      <td>Warfield</td>\n",
       "      <td>Sarah</td>\n",
       "      <td>39</td>\n",
       "      <td>Femenino</td>\n",
       "      <td>EE.UU.</td>\n",
       "      <td>Asiática</td>\n",
       "      <td>2015-03-30</td>\n",
       "      <td>TI/SI</td>\n",
       "      <td>Ingeniero de redes Sr.</td>\n",
       "      <td>114816.0</td>\n",
       "    </tr>\n",
       "    <tr>\n",
       "      <th>2</th>\n",
       "      <td>Petrowsky</td>\n",
       "      <td>Thelma</td>\n",
       "      <td>33</td>\n",
       "      <td>Femenino</td>\n",
       "      <td>EE.UU.</td>\n",
       "      <td>Asiática</td>\n",
       "      <td>2014-11-10</td>\n",
       "      <td>TI/SI</td>\n",
       "      <td>Administrador de bases de datos</td>\n",
       "      <td>88920.0</td>\n",
       "    </tr>\n",
       "    <tr>\n",
       "      <th>3</th>\n",
       "      <td>Boutwell</td>\n",
       "      <td>Bonalyn</td>\n",
       "      <td>30</td>\n",
       "      <td>Femenino</td>\n",
       "      <td>EE.UU.</td>\n",
       "      <td>Asiática</td>\n",
       "      <td>2015-02-16</td>\n",
       "      <td>Oficinas Administrativas</td>\n",
       "      <td>Contador Sr.</td>\n",
       "      <td>72696.0</td>\n",
       "    </tr>\n",
       "    <tr>\n",
       "      <th>4</th>\n",
       "      <td>Petingill</td>\n",
       "      <td>Shana</td>\n",
       "      <td>38</td>\n",
       "      <td>Femenino</td>\n",
       "      <td>Australia</td>\n",
       "      <td>Asiática</td>\n",
       "      <td>2012-04-02</td>\n",
       "      <td>Producción</td>\n",
       "      <td>Técnico de producción II</td>\n",
       "      <td>54080.0</td>\n",
       "    </tr>\n",
       "  </tbody>\n",
       "</table>\n",
       "</div>"
      ],
      "text/plain": [
       "    Apellido   Nombre  Edad    Género       Pais     Etnia Fecha_de_inicio  \\\n",
       "0     Martin   Sandra    30  Femenino     EE.UU.  Asiática      2013-11-11   \n",
       "1   Warfield    Sarah    39  Femenino     EE.UU.  Asiática      2015-03-30   \n",
       "2  Petrowsky   Thelma    33  Femenino     EE.UU.  Asiática      2014-11-10   \n",
       "3   Boutwell  Bonalyn    30  Femenino     EE.UU.  Asiática      2015-02-16   \n",
       "4  Petingill    Shana    38  Femenino  Australia  Asiática      2012-04-02   \n",
       "\n",
       "               Departamento                         Posición   Salario  \n",
       "0    Ingeniería de Software              Ingeniero de ventas  115460.8  \n",
       "1                     TI/SI           Ingeniero de redes Sr.  114816.0  \n",
       "2                     TI/SI  Administrador de bases de datos   88920.0  \n",
       "3  Oficinas Administrativas                     Contador Sr.   72696.0  \n",
       "4                Producción         Técnico de producción II   54080.0  "
      ]
     },
     "execution_count": 283,
     "metadata": {},
     "output_type": "execute_result"
    }
   ],
   "source": [
    "data = pd.read_excel('salarios.xlsx',usecols=\"B:K\",skiprows=3)\n",
    "data.head()"
   ]
  },
  {
   "cell_type": "markdown",
   "metadata": {},
   "source": [
    "### Test de Hipótesis  "
   ]
  },
  {
   "cell_type": "markdown",
   "metadata": {},
   "source": [
    "- El salario masculino promedio es igual al femenino promedio\n",
    "$$H_0: \\mu_m - \\mu_f = 0 $$\n",
    "\n",
    "- El salario masculino promedio difiere al femenino promedio\n",
    "$$H_1: \\mu_m - \\mu_f \\neq 0$$"
   ]
  },
  {
   "cell_type": "markdown",
   "metadata": {},
   "source": [
    "#### Cantidad de hombres y mujeres"
   ]
  },
  {
   "cell_type": "code",
   "execution_count": 284,
   "metadata": {},
   "outputs": [
    {
     "name": "stdout",
     "output_type": "stream",
     "text": [
      "Existen 76 mujeres y 98 hombres\n"
     ]
    }
   ],
   "source": [
    "n_x = len(data[data[\"Género\"]==\"Masculino\"])\n",
    "n_y = len(data[data[\"Género\"]==\"Femenino\"])\n",
    "print(\"Existen {} mujeres y {} hombres\".format(n_y2,n_x2))"
   ]
  },
  {
   "cell_type": "markdown",
   "metadata": {},
   "source": [
    "#### Medias de cada salario según género"
   ]
  },
  {
   "cell_type": "code",
   "execution_count": 299,
   "metadata": {},
   "outputs": [
    {
     "name": "stdout",
     "output_type": "stream",
     "text": [
      "La media de salario para mujeres es 65736.91428571429 y la media de hombres es 72300.52631578948\n"
     ]
    }
   ],
   "source": [
    "meanMale=data[data[\"Género\"]==\"Masculino\"]['Salario'].mean()\n",
    "meanFemale=data[data[\"Género\"]==\"Femenino\"]['Salario'].mean()\n",
    "print(\"La media de salario para mujeres es {} y la media de hombres es {}\".format(meanFemale,meanMale))"
   ]
  },
  {
   "cell_type": "markdown",
   "metadata": {},
   "source": [
    "#### Varianza muestral según género"
   ]
  },
  {
   "cell_type": "code",
   "execution_count": 345,
   "metadata": {},
   "outputs": [
    {
     "name": "stdout",
     "output_type": "stream",
     "text": [
      "La varianza muestral para mujeres es 1097618027.6783504 y para hombres 1241431654.5630314\n"
     ]
    }
   ],
   "source": [
    "s_x2=data[data[\"Género\"]==\"Masculino\"]['Salario'].var()\n",
    "s_y2=data[data[\"Género\"]==\"Femenino\"]['Salario'].var()\n",
    "print(\"La varianza muestral para mujeres es {} y para hombres {}\".format(s_y2,s_x2))"
   ]
  },
  {
   "cell_type": "markdown",
   "metadata": {},
   "source": [
    "#### Varianza combinada"
   ]
  },
  {
   "cell_type": "markdown",
   "metadata": {},
   "source": [
    "$$s_p^2=\\dfrac{(n_x - 1)s_x^2 + (n_y - 1)s_y^2}{n_x + n_y - 2}$$"
   ]
  },
  {
   "cell_type": "code",
   "execution_count": 346,
   "metadata": {},
   "outputs": [],
   "source": [
    "s2p = lambda n_x,n_y,s_x2,s_y2 : ((n_x - 1)*s_x2 + (n_y - 1)*s_y2) / (n_x + n_y-2)"
   ]
  },
  {
   "cell_type": "code",
   "execution_count": 347,
   "metadata": {},
   "outputs": [
    {
     "name": "stdout",
     "output_type": "stream",
     "text": [
      "La varianza combinada es 1160327458.0059729\n"
     ]
    }
   ],
   "source": [
    "s_2p=s2p(n_x,n_y,s_x2,s_y2)\n",
    "print(\"La varianza combinada es {}\".format(s_2p))"
   ]
  },
  {
   "cell_type": "markdown",
   "metadata": {},
   "source": [
    "#### Valor T de varianzas combinadas para la diferencia entre medias"
   ]
  },
  {
   "cell_type": "markdown",
   "metadata": {},
   "source": [
    "$$T=\\dfrac{(\\overline{x} - \\overline{y})-(\\mu_m - \\mu_f)}{\\sqrt{\\dfrac{s_p^2}{n_m} + \\dfrac{s_p^2}{n_f}}}$$"
   ]
  },
  {
   "cell_type": "code",
   "execution_count": 278,
   "metadata": {},
   "outputs": [],
   "source": [
    "T = lambda x,y,u_m,u_f,sp2,n_m,n_f : ((x-y) - (u_m - u_f)) / (((sp2/n_m) + (sp2/n_f))**(1/2))"
   ]
  },
  {
   "cell_type": "code",
   "execution_count": 305,
   "metadata": {},
   "outputs": [
    {
     "name": "stdout",
     "output_type": "stream",
     "text": [
      "El valor t es 1.2606595770038977\n"
     ]
    }
   ],
   "source": [
    "t = T(meanMale, meanFemale, 0, 0, s_2p,n_x,n_y)\n",
    "print(\"El valor t es {}\".format(t))"
   ]
  },
  {
   "cell_type": "markdown",
   "metadata": {},
   "source": [
    "##### Una vez hayamos pasado los 50 grados de libertad, la distribución de la T de Student $\\sim$ distribución Normal"
   ]
  },
  {
   "cell_type": "markdown",
   "metadata": {},
   "source": [
    "#### Calculamos P-value"
   ]
  },
  {
   "cell_type": "code",
   "execution_count": 308,
   "metadata": {},
   "outputs": [
    {
     "name": "stdout",
     "output_type": "stream",
     "text": [
      "P-value es 0.209141\n"
     ]
    }
   ],
   "source": [
    "print(\"P-value es {}\".format(0.209141))"
   ]
  },
  {
   "cell_type": "markdown",
   "metadata": {},
   "source": [
    "##### El valor p-value es mayor a todos los niveles comunes de significación por lo tanto no podemos rechazar la hipótesis nula."
   ]
  },
  {
   "cell_type": "markdown",
   "metadata": {},
   "source": [
    "## Dividimos ahora a los empleados en dos grupos, menores y mayores a 35 años"
   ]
  },
  {
   "cell_type": "markdown",
   "metadata": {},
   "source": [
    "### Menores o iguales a 35 años"
   ]
  },
  {
   "cell_type": "markdown",
   "metadata": {},
   "source": [
    "- El salario masculino promedio es igual al femenino promedio\n",
    "$$H_0: \\mu_m - \\mu_f = 0 $$\n",
    "\n",
    "- El salario masculino promedio difiere al femenino promedio\n",
    "$$H_1: \\mu_m - \\mu_f \\neq 0$$"
   ]
  },
  {
   "cell_type": "markdown",
   "metadata": {},
   "source": [
    "#### Cantidad de hombres y mujeres"
   ]
  },
  {
   "cell_type": "code",
   "execution_count": 309,
   "metadata": {},
   "outputs": [
    {
     "name": "stdout",
     "output_type": "stream",
     "text": [
      "Existen 46 mujeres y 36 hombres\n"
     ]
    }
   ],
   "source": [
    "nx_menor=len(data[(data[\"Edad\"]<=35) & (data[\"Género\"]=='Masculino')])\n",
    "ny_menor=len(data[(data[\"Edad\"]<=35) & (data[\"Género\"]=='Femenino')])\n",
    "print(\"Existen {} mujeres y {} hombres\".format(ny_menor,nx_menor))"
   ]
  },
  {
   "cell_type": "markdown",
   "metadata": {},
   "source": [
    "#### Medias de cada salario según género"
   ]
  },
  {
   "cell_type": "code",
   "execution_count": 310,
   "metadata": {},
   "outputs": [
    {
     "name": "stdout",
     "output_type": "stream",
     "text": [
      "La media de salario para mujeres es 66775.23478260869 y la media de hombres es 68622.66666666667\n"
     ]
    }
   ],
   "source": [
    "meanMale_menor=data[(data[\"Género\"]==\"Masculino\") & (data[\"Edad\"]<=35)]['Salario'].mean()\n",
    "meanFemale_menor= data[(data[\"Género\"]==\"Femenino\") & (data[\"Edad\"]<=35)]['Salario'].mean()\n",
    "print(\"La media de salario para mujeres es {} y la media de hombres es {}\".format(meanFemale_menor,meanMale_menor))"
   ]
  },
  {
   "cell_type": "markdown",
   "metadata": {},
   "source": [
    "#### Varianza muestral según género"
   ]
  },
  {
   "cell_type": "code",
   "execution_count": 311,
   "metadata": {},
   "outputs": [
    {
     "name": "stdout",
     "output_type": "stream",
     "text": [
      "La varianza muestral para mujeres es 1063144850.8574296 y para hombres 1001780107.9222857\n"
     ]
    }
   ],
   "source": [
    "sx_menor=data[(data[\"Género\"]==\"Masculino\") & (data[\"Edad\"]<=35)]['Salario'].var()\n",
    "sy_menor=data[(data[\"Género\"]==\"Femenino\") & (data[\"Edad\"]<=35)]['Salario'].var()\n",
    "print(\"La varianza muestral para mujeres es {} y para hombres {}\".format(sy_menor,sx_menor))"
   ]
  },
  {
   "cell_type": "markdown",
   "metadata": {},
   "source": [
    "#### Varianza combinada"
   ]
  },
  {
   "cell_type": "code",
   "execution_count": 312,
   "metadata": {},
   "outputs": [
    {
     "name": "stdout",
     "output_type": "stream",
     "text": [
      "La varianza combinada es 1036297775.8233042\n"
     ]
    }
   ],
   "source": [
    "s2p_menor=s2p(nx_menor,ny_menor,sx_menor,sy_menor)\n",
    "print(\"La varianza combinada es {}\".format(s2p_menor))"
   ]
  },
  {
   "cell_type": "markdown",
   "metadata": {},
   "source": [
    "#### Valor T de varianzas combinadas para la diferencia entre medias"
   ]
  },
  {
   "cell_type": "code",
   "execution_count": 313,
   "metadata": {},
   "outputs": [
    {
     "name": "stdout",
     "output_type": "stream",
     "text": [
      "El valor t es 0.2578988417438048\n"
     ]
    }
   ],
   "source": [
    "t_menor = T(meanMale_menor, meanFemale_menor, 0, 0, s2p_menor,nx_menor,ny_menor)\n",
    "print(\"El valor t es {}\".format(t_menor))"
   ]
  },
  {
   "cell_type": "markdown",
   "metadata": {},
   "source": [
    "#### Calculamos P-value"
   ]
  },
  {
   "cell_type": "code",
   "execution_count": 316,
   "metadata": {},
   "outputs": [
    {
     "name": "stdout",
     "output_type": "stream",
     "text": [
      "P-value es 0.796866\n"
     ]
    }
   ],
   "source": [
    "print(\"P-value es {}\".format(0.796866))"
   ]
  },
  {
   "cell_type": "markdown",
   "metadata": {},
   "source": [
    "##### Prácticamente no hay diferencia salarial entre hombres y mujeres."
   ]
  },
  {
   "cell_type": "markdown",
   "metadata": {},
   "source": [
    "### Mayores a 35 años"
   ]
  },
  {
   "cell_type": "markdown",
   "metadata": {},
   "source": [
    "- El salario masculino promedio es igual al femenino promedio\n",
    "$$H_0: \\mu_m - \\mu_f = 0 $$\n",
    "\n",
    "- El salario masculino promedio difiere al femenino promedio\n",
    "$$H_1: \\mu_m - \\mu_f \\neq 0$$"
   ]
  },
  {
   "cell_type": "markdown",
   "metadata": {},
   "source": [
    "#### Cantidad de hombres y mujeres"
   ]
  },
  {
   "cell_type": "code",
   "execution_count": 325,
   "metadata": {},
   "outputs": [
    {
     "name": "stdout",
     "output_type": "stream",
     "text": [
      "Existen 40 mujeres y 52 hombres\n"
     ]
    }
   ],
   "source": [
    "nx2_mayor=len(data[(data[\"Edad\"]>35) & (data[\"Género\"]=='Masculino')])\n",
    "ny2_mayor=len(data[(data[\"Edad\"]>35) & (data[\"Género\"]=='Femenino')])\n",
    "print(\"Existen {} mujeres y {} hombres\".format(nx2_mayor,ny2_mayor))"
   ]
  },
  {
   "cell_type": "markdown",
   "metadata": {},
   "source": [
    "#### Medias de cada salario según género"
   ]
  },
  {
   "cell_type": "code",
   "execution_count": 323,
   "metadata": {},
   "outputs": [
    {
     "name": "stdout",
     "output_type": "stream",
     "text": [
      "La media de salario para mujeres es 64818.399999999994 y la media de hombres es 75610.6\n"
     ]
    }
   ],
   "source": [
    "meanMale_mayor= data[(data[\"Género\"]==\"Masculino\") & (data[\"Edad\"]>35)]['Salario'].mean()\n",
    "meanFemale_mayor= data[(data[\"Género\"]==\"Femenino\") & (data[\"Edad\"]>35)]['Salario'].mean()\n",
    "print(\"La media de salario para mujeres es {} y la media de hombres es {}\".format(meanFemale_mayor,meanMale_mayor))"
   ]
  },
  {
   "cell_type": "markdown",
   "metadata": {},
   "source": [
    "#### Varianza muestral según género"
   ]
  },
  {
   "cell_type": "code",
   "execution_count": 326,
   "metadata": {},
   "outputs": [
    {
     "name": "stdout",
     "output_type": "stream",
     "text": [
      "La varianza muestral para mujeres es 1147724835.2878428 y para hombres 1464611470.4\n"
     ]
    }
   ],
   "source": [
    "sx2_mayor=data[(data[\"Género\"]==\"Masculino\") & (data[\"Edad\"]>35)]['Salario'].var()\n",
    "sy2_mayor=data[(data[\"Género\"]==\"Femenino\") & (data[\"Edad\"]>35)]['Salario'].var()\n",
    "print(\"La varianza muestral para mujeres es {} y para hombres {}\".format(sy2_mayor,sx2_mayor))"
   ]
  },
  {
   "cell_type": "markdown",
   "metadata": {},
   "source": [
    "#### Varianza combinada"
   ]
  },
  {
   "cell_type": "code",
   "execution_count": 327,
   "metadata": {},
   "outputs": [
    {
     "name": "stdout",
     "output_type": "stream",
     "text": [
      "La varianza combinada es 1285042377.1697776\n"
     ]
    }
   ],
   "source": [
    "s2p_mayor=s2p(nx2_mayor,ny2_mayor,sx2_mayor,sy2_mayor)\n",
    "print(\"La varianza combinada es {}\".format(s2p_mayor))"
   ]
  },
  {
   "cell_type": "markdown",
   "metadata": {},
   "source": [
    "#### Valor T de varianzas combinadas para la diferencia entre medias"
   ]
  },
  {
   "cell_type": "code",
   "execution_count": 329,
   "metadata": {},
   "outputs": [
    {
     "name": "stdout",
     "output_type": "stream",
     "text": [
      "El valor t es 1.4314922923710793\n"
     ]
    }
   ],
   "source": [
    "t_mayor = T(meanMale_mayor, meanFemale_mayor, 0, 0, s2p_mayor,nx2_mayor,ny2_mayor)\n",
    "print(\"El valor t es {}\".format(t_mayor))"
   ]
  },
  {
   "cell_type": "markdown",
   "metadata": {},
   "source": [
    "#### Calculamos P-value"
   ]
  },
  {
   "cell_type": "code",
   "execution_count": 333,
   "metadata": {},
   "outputs": [
    {
     "name": "stdout",
     "output_type": "stream",
     "text": [
      "P-value es 0.154109\n"
     ]
    }
   ],
   "source": [
    "print(\"P-value es {}\".format(0.154109))"
   ]
  },
  {
   "cell_type": "markdown",
   "metadata": {},
   "source": [
    "##### Vemos que tampoco se tiene alguna diferencia salarial entre hombres y mujeres."
   ]
  }
 ],
 "metadata": {
  "kernelspec": {
   "display_name": "Python 3",
   "language": "python",
   "name": "python3"
  },
  "language_info": {
   "codemirror_mode": {
    "name": "ipython",
    "version": 3
   },
   "file_extension": ".py",
   "mimetype": "text/x-python",
   "name": "python",
   "nbconvert_exporter": "python",
   "pygments_lexer": "ipython3",
   "version": "3.8.8"
  }
 },
 "nbformat": 4,
 "nbformat_minor": 4
}
