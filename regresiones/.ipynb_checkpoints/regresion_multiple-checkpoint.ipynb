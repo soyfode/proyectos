{
 "cells": [
  {
   "cell_type": "markdown",
   "id": "julian-oregon",
   "metadata": {},
   "source": [
    "# Regresión multiple"
   ]
  },
  {
   "cell_type": "markdown",
   "id": "speaking-bankruptcy",
   "metadata": {},
   "source": [
    "$$ \\widehat{y} =b_o + b_1x_1 + +b_2x_2 + ... + b_k + b_kx_k$$"
   ]
  },
  {
   "cell_type": "markdown",
   "id": "traditional-capacity",
   "metadata": {},
   "source": [
    "- Lo que se quiere el la mínima suma de errores cuadrados (min SSE)"
   ]
  },
  {
   "cell_type": "markdown",
   "id": "sharing-exchange",
   "metadata": {},
   "source": [
    "## R-cuadrado ajustado\n",
    "\n",
    "1. R-cuadrado mide cuánto de la variablidad total es explicado por nuestro modelo.\n",
    "2. las regresiones múltiples siempre son mejores que las simples, pues con cada variable adicional que añadamos, el poder explicativo solo puede crecer o mantenerse."
   ]
  },
  {
   "cell_type": "code",
   "execution_count": null,
   "id": "another-coaching",
   "metadata": {},
   "outputs": [],
   "source": []
  }
 ],
 "metadata": {
  "kernelspec": {
   "display_name": "Python 3",
   "language": "python",
   "name": "python3"
  },
  "language_info": {
   "codemirror_mode": {
    "name": "ipython",
    "version": 3
   },
   "file_extension": ".py",
   "mimetype": "text/x-python",
   "name": "python",
   "nbconvert_exporter": "python",
   "pygments_lexer": "ipython3",
   "version": "3.8.8"
  }
 },
 "nbformat": 4,
 "nbformat_minor": 5
}
