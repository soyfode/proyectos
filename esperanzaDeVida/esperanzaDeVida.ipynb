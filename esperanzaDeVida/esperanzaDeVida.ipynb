{
 "cells": [
  {
   "cell_type": "markdown",
   "id": "766ed1c8-60ad-4176-958a-1c00e8b0eda3",
   "metadata": {},
   "source": [
    "# Esperanza de Vida"
   ]
  },
  {
   "cell_type": "code",
   "execution_count": 1,
   "id": "e0396481-69b8-45d6-8013-0aa2dbf646cb",
   "metadata": {},
   "outputs": [],
   "source": [
    "# librerias\n",
    "import pandas as pd\n",
    "import matplotlib.pyplot as plt\n",
    "import numpy as np\n",
    "from sklearn.neighbors import KNeighborsClassifier\n",
    "from sklearn.model_selection import train_test_split\n",
    "plt.style.use('ggplot')"
   ]
  },
  {
   "cell_type": "code",
   "execution_count": 81,
   "id": "f01d7cc1-663a-4bae-ab09-3cc9d4fdbf96",
   "metadata": {},
   "outputs": [
    {
     "data": {
      "text/html": [
       "<div>\n",
       "<style scoped>\n",
       "    .dataframe tbody tr th:only-of-type {\n",
       "        vertical-align: middle;\n",
       "    }\n",
       "\n",
       "    .dataframe tbody tr th {\n",
       "        vertical-align: top;\n",
       "    }\n",
       "\n",
       "    .dataframe thead th {\n",
       "        text-align: right;\n",
       "    }\n",
       "</style>\n",
       "<table border=\"1\" class=\"dataframe\">\n",
       "  <thead>\n",
       "    <tr style=\"text-align: right;\">\n",
       "      <th></th>\n",
       "      <th>Country</th>\n",
       "      <th>Overall Life</th>\n",
       "      <th>Male Life</th>\n",
       "      <th>Female Life</th>\n",
       "      <th>Continent</th>\n",
       "    </tr>\n",
       "    <tr>\n",
       "      <th>Rank</th>\n",
       "      <th></th>\n",
       "      <th></th>\n",
       "      <th></th>\n",
       "      <th></th>\n",
       "      <th></th>\n",
       "    </tr>\n",
       "  </thead>\n",
       "  <tbody>\n",
       "    <tr>\n",
       "      <th>1</th>\n",
       "      <td>Monaco</td>\n",
       "      <td>89.5</td>\n",
       "      <td>85.6</td>\n",
       "      <td>93.5</td>\n",
       "      <td>Europe</td>\n",
       "    </tr>\n",
       "    <tr>\n",
       "      <th>2</th>\n",
       "      <td>Japan</td>\n",
       "      <td>85.0</td>\n",
       "      <td>81.7</td>\n",
       "      <td>88.5</td>\n",
       "      <td>Asia</td>\n",
       "    </tr>\n",
       "    <tr>\n",
       "      <th>3</th>\n",
       "      <td>Singapore</td>\n",
       "      <td>85.0</td>\n",
       "      <td>82.3</td>\n",
       "      <td>87.8</td>\n",
       "      <td>Asia</td>\n",
       "    </tr>\n",
       "    <tr>\n",
       "      <th>4</th>\n",
       "      <td>Macau; China</td>\n",
       "      <td>84.5</td>\n",
       "      <td>81.6</td>\n",
       "      <td>87.6</td>\n",
       "      <td>Asia</td>\n",
       "    </tr>\n",
       "    <tr>\n",
       "      <th>5</th>\n",
       "      <td>San Marino</td>\n",
       "      <td>83.3</td>\n",
       "      <td>80.7</td>\n",
       "      <td>86.1</td>\n",
       "      <td>Europe</td>\n",
       "    </tr>\n",
       "  </tbody>\n",
       "</table>\n",
       "</div>"
      ],
      "text/plain": [
       "           Country  Overall Life  Male Life  Female Life Continent\n",
       "Rank                                                              \n",
       "1           Monaco          89.5       85.6         93.5    Europe\n",
       "2            Japan          85.0       81.7         88.5      Asia\n",
       "3        Singapore          85.0       82.3         87.8      Asia\n",
       "4     Macau; China          84.5       81.6         87.6      Asia\n",
       "5       San Marino          83.3       80.7         86.1    Europe"
      ]
     },
     "execution_count": 81,
     "metadata": {},
     "output_type": "execute_result"
    }
   ],
   "source": [
    "# dataset\n",
    "df = pd.read_csv('Life_expectancy_dataset.csv', index_col=\"Rank\")\n",
    "df.head()"
   ]
  },
  {
   "cell_type": "code",
   "execution_count": 82,
   "id": "52ffd1cd-b5db-46a7-b29c-c7b24d8bfbe5",
   "metadata": {},
   "outputs": [
    {
     "data": {
      "text/plain": [
       "Country          object\n",
       "Overall Life    float64\n",
       "Male Life       float64\n",
       "Female Life     float64\n",
       "Continent        object\n",
       "dtype: object"
      ]
     },
     "execution_count": 82,
     "metadata": {},
     "output_type": "execute_result"
    }
   ],
   "source": [
    "# Tipos de datos\n",
    "df.dtypes"
   ]
  },
  {
   "cell_type": "code",
   "execution_count": 83,
   "id": "e0bdf883-bb30-4870-972c-8cc17d529fee",
   "metadata": {},
   "outputs": [
    {
     "data": {
      "text/plain": [
       "Country         0\n",
       "Overall Life    0\n",
       "Male Life       0\n",
       "Female Life     0\n",
       "Continent       0\n",
       "dtype: int64"
      ]
     },
     "execution_count": 83,
     "metadata": {},
     "output_type": "execute_result"
    }
   ],
   "source": [
    "# Buscando datos faltantes\n",
    "df.isna().sum()"
   ]
  },
  {
   "cell_type": "code",
   "execution_count": 84,
   "id": "8b8f3e4a-b7cc-4b12-a9c3-6c81fc8bb076",
   "metadata": {},
   "outputs": [
    {
     "data": {
      "text/html": [
       "<div>\n",
       "<style scoped>\n",
       "    .dataframe tbody tr th:only-of-type {\n",
       "        vertical-align: middle;\n",
       "    }\n",
       "\n",
       "    .dataframe tbody tr th {\n",
       "        vertical-align: top;\n",
       "    }\n",
       "\n",
       "    .dataframe thead th {\n",
       "        text-align: right;\n",
       "    }\n",
       "</style>\n",
       "<table border=\"1\" class=\"dataframe\">\n",
       "  <thead>\n",
       "    <tr style=\"text-align: right;\">\n",
       "      <th></th>\n",
       "      <th>Overall Life</th>\n",
       "      <th>Male Life</th>\n",
       "      <th>Female Life</th>\n",
       "    </tr>\n",
       "  </thead>\n",
       "  <tbody>\n",
       "    <tr>\n",
       "      <th>count</th>\n",
       "      <td>223.000000</td>\n",
       "      <td>223.000000</td>\n",
       "      <td>223.000000</td>\n",
       "    </tr>\n",
       "    <tr>\n",
       "      <th>mean</th>\n",
       "      <td>72.487892</td>\n",
       "      <td>70.041704</td>\n",
       "      <td>75.019283</td>\n",
       "    </tr>\n",
       "    <tr>\n",
       "      <th>std</th>\n",
       "      <td>8.459335</td>\n",
       "      <td>8.074942</td>\n",
       "      <td>8.986633</td>\n",
       "    </tr>\n",
       "    <tr>\n",
       "      <th>min</th>\n",
       "      <td>50.200000</td>\n",
       "      <td>48.600000</td>\n",
       "      <td>51.000000</td>\n",
       "    </tr>\n",
       "    <tr>\n",
       "      <th>25%</th>\n",
       "      <td>67.450000</td>\n",
       "      <td>64.500000</td>\n",
       "      <td>69.750000</td>\n",
       "    </tr>\n",
       "    <tr>\n",
       "      <th>50%</th>\n",
       "      <td>74.900000</td>\n",
       "      <td>72.200000</td>\n",
       "      <td>77.900000</td>\n",
       "    </tr>\n",
       "    <tr>\n",
       "      <th>75%</th>\n",
       "      <td>78.600000</td>\n",
       "      <td>75.850000</td>\n",
       "      <td>81.600000</td>\n",
       "    </tr>\n",
       "    <tr>\n",
       "      <th>max</th>\n",
       "      <td>89.500000</td>\n",
       "      <td>85.600000</td>\n",
       "      <td>93.500000</td>\n",
       "    </tr>\n",
       "  </tbody>\n",
       "</table>\n",
       "</div>"
      ],
      "text/plain": [
       "       Overall Life   Male Life  Female Life\n",
       "count    223.000000  223.000000   223.000000\n",
       "mean      72.487892   70.041704    75.019283\n",
       "std        8.459335    8.074942     8.986633\n",
       "min       50.200000   48.600000    51.000000\n",
       "25%       67.450000   64.500000    69.750000\n",
       "50%       74.900000   72.200000    77.900000\n",
       "75%       78.600000   75.850000    81.600000\n",
       "max       89.500000   85.600000    93.500000"
      ]
     },
     "execution_count": 84,
     "metadata": {},
     "output_type": "execute_result"
    }
   ],
   "source": [
    "# Describiendo los datos\n",
    "df.describe()"
   ]
  },
  {
   "cell_type": "code",
   "execution_count": 85,
   "id": "8fd18ccd-e855-47c9-b0f4-bcaa537b8990",
   "metadata": {},
   "outputs": [
    {
     "data": {
      "text/plain": [
       "numpy.ndarray"
      ]
     },
     "execution_count": 85,
     "metadata": {},
     "output_type": "execute_result"
    }
   ],
   "source": [
    "#Creando Arrays para caracteristicas y la variable de respuesta\n",
    "y = df[\"Continent\"].values\n",
    "X = df.drop(['Country','Continent'],axis=1).values\n",
    "type(y)"
   ]
  },
  {
   "cell_type": "code",
   "execution_count": 86,
   "id": "24c30001-cf76-4339-b192-f9e91e578806",
   "metadata": {},
   "outputs": [],
   "source": [
    "# Dividiendo en entrenamiento y conjunto de prueba\n",
    "X_train, X_test, y_train, y_test = train_test_split(X,y,test_size=0.20,random_state=13,stratify=y)"
   ]
  },
  {
   "cell_type": "code",
   "execution_count": 87,
   "id": "9c0c86da-411a-4fa9-b7d6-52c8f17ae036",
   "metadata": {},
   "outputs": [],
   "source": [
    "# Creando un clasificador KNN con 5 vecinos\n",
    "knn = KNeighborsClassifier(n_neighbors = 6)"
   ]
  },
  {
   "cell_type": "code",
   "execution_count": 88,
   "id": "52cc116a-244d-466e-a134-dc1549d4a6a4",
   "metadata": {},
   "outputs": [
    {
     "data": {
      "text/plain": [
       "KNeighborsClassifier(n_neighbors=6)"
      ]
     },
     "execution_count": 88,
     "metadata": {},
     "output_type": "execute_result"
    }
   ],
   "source": [
    "# Ajustando el clasificador a los datos\n",
    "knn.fit(X_train,y_train)"
   ]
  },
  {
   "cell_type": "code",
   "execution_count": 89,
   "id": "8d4ab53a-bfe9-4764-99da-618ddd3982d1",
   "metadata": {},
   "outputs": [
    {
     "name": "stdout",
     "output_type": "stream",
     "text": [
      "Precisión del modelo KNN es:  62.22222222222222 %\n"
     ]
    }
   ],
   "source": [
    "print(\"Precisión del modelo KNN es: \",(knn.score(X_test,y_test))*100,\"%\")"
   ]
  },
  {
   "cell_type": "markdown",
   "id": "34df56b2-1263-4114-80a2-69eb2029782a",
   "metadata": {},
   "source": [
    "### Curva de complejidad del modelo\n",
    "- Underfitting izquierda del grafico\n",
    "- Overfitting derecha del gráfico"
   ]
  },
  {
   "cell_type": "code",
   "execution_count": 90,
   "id": "98021348-36f9-4b5f-8ea5-2e1173857cbe",
   "metadata": {},
   "outputs": [
    {
     "data": {
      "image/png": "[encoded data removed]",
      "text/plain": [
       "<Figure size 432x288 with 1 Axes>"
      ]
     },
     "metadata": {},
     "output_type": "display_data"
    }
   ],
   "source": [
    "# Bucle sobre diferentes valores de k\n",
    "k_vida = np.arange(1, 13)\n",
    "train_accuracy = np.empty(len(k_vida))\n",
    "test_accuracy = np.empty(len(k_vida))\n",
    "for i, k in enumerate(k_vida):\n",
    "    # Setup a k-NN Classifier with k neighbors: knn\n",
    "    knn = KNeighborsClassifier(n_neighbors = k)\n",
    "\n",
    "    # Fit the classifier to the training data\n",
    "    knn.fit(X_train,y_train)\n",
    "    \n",
    "    #Compute accuracy on the training set\n",
    "    train_accuracy[i] = knn.score(X_train, y_train)\n",
    "\n",
    "    #Compute accuracy on the testing set\n",
    "    test_accuracy[i] = knn.score(X_test, y_test)\n",
    "\n",
    "# Generate plot\n",
    "plt.title('k-NN: Varying Number of Neighbors')\n",
    "plt.plot(k_vida, test_accuracy, label = 'Testing Accuracy')\n",
    "plt.plot(k_vida, train_accuracy, label = 'Training Accuracy')\n",
    "plt.legend()\n",
    "plt.xlabel('Number of Neighbors')\n",
    "plt.ylabel('Accuracy')\n",
    "plt.show()"
   ]
  },
  {
   "cell_type": "code",
   "execution_count": 91,
   "id": "94434a03-e0bb-4bea-ab27-f9e1ef7eb839",
   "metadata": {},
   "outputs": [
    {
     "name": "stdout",
     "output_type": "stream",
     "text": [
      "Predicciones del conjunto de prueba: \n",
      " \n",
      " ['Europe' 'Africa' 'Europe' 'North America' 'Asia' 'North America' 'Asia'\n",
      " 'Asia' 'Africa' 'Africa' 'Europe' 'Asia' 'Asia' 'Africa' 'Europe'\n",
      " 'Africa' 'Asia' 'Asia' 'Africa' 'Oceania' 'Africa' 'Europe' 'Africa'\n",
      " 'Europe' 'Europe' 'Europe' 'Oceania' 'Asia' 'Asia' 'Europe' 'Asia'\n",
      " 'Europe' 'Africa' 'Europe' 'Europe' 'Africa' 'North America' 'Asia'\n",
      " 'North America' 'Africa' 'Asia' 'Europe' 'Asia' 'Africa' 'Asia']\n"
     ]
    }
   ],
   "source": [
    "y_pred = knn.predict(X_test)\n",
    "print(\"Predicciones del conjunto de prueba: \\n \\n {}\".format(y_pred))"
   ]
  }
 ],
 "metadata": {
  "kernelspec": {
   "display_name": "Python 3",
   "language": "python",
   "name": "python3"
  },
  "language_info": {
   "codemirror_mode": {
    "name": "ipython",
    "version": 3
   },
   "file_extension": ".py",
   "mimetype": "text/x-python",
   "name": "python",
   "nbconvert_exporter": "python",
   "pygments_lexer": "ipython3",
   "version": "3.8.10"
  }
 },
 "nbformat": 4,
 "nbformat_minor": 5
}
