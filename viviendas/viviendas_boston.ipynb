{
 "cells": [
  {
   "cell_type": "markdown",
   "id": "46500fd2-98f5-4685-9205-652908bc3952",
   "metadata": {},
   "source": [
    "# Viviendas en Boston"
   ]
  },
  {
   "cell_type": "markdown",
   "id": "e981c9b3-b937-4f97-80c7-d41b244b56be",
   "metadata": {},
   "source": [
    "## Regresión lineal"
   ]
  },
  {
   "cell_type": "markdown",
   "id": "da6658a8-f3b6-49c8-85e4-38cabfd5a60d",
   "metadata": {},
   "source": [
    "- Se debe hallar la función de pérdido o de costo.\n",
    "- Para ello calculamos la distancia residual entre la linea y el punto, para luego minimizar la suma de los cuadrados de los residuos. (Mínimos cuadrados Ordinarios o OLS)"
   ]
  },
  {
   "cell_type": "code",
   "execution_count": 83,
   "id": "177f6dd5-2a94-4274-950b-854c149aa60c",
   "metadata": {},
   "outputs": [],
   "source": [
    "# librerias\n",
    "import pandas as pd\n",
    "import matplotlib.pyplot as plt\n",
    "from sklearn.linear_model import LinearRegression\n",
    "from sklearn.model_selection import train_test_split\n",
    "import numpy as np\n",
    "plt.style.use('ggplot')"
   ]
  },
  {
   "cell_type": "code",
   "execution_count": 72,
   "id": "befa47a1-401f-4f81-ba6f-2982b4dc5ef9",
   "metadata": {},
   "outputs": [
    {
     "data": {
      "text/html": [
       "<div>\n",
       "<style scoped>\n",
       "    .dataframe tbody tr th:only-of-type {\n",
       "        vertical-align: middle;\n",
       "    }\n",
       "\n",
       "    .dataframe tbody tr th {\n",
       "        vertical-align: top;\n",
       "    }\n",
       "\n",
       "    .dataframe thead th {\n",
       "        text-align: right;\n",
       "    }\n",
       "</style>\n",
       "<table border=\"1\" class=\"dataframe\">\n",
       "  <thead>\n",
       "    <tr style=\"text-align: right;\">\n",
       "      <th></th>\n",
       "      <th>CRIM</th>\n",
       "      <th>ZN</th>\n",
       "      <th>INDUS</th>\n",
       "      <th>CHAS</th>\n",
       "      <th>NX</th>\n",
       "      <th>RM</th>\n",
       "      <th>AGE</th>\n",
       "      <th>DIS</th>\n",
       "      <th>RAD</th>\n",
       "      <th>TAX</th>\n",
       "      <th>PTRATIO</th>\n",
       "      <th>B</th>\n",
       "      <th>LSTAT</th>\n",
       "      <th>MEDV</th>\n",
       "    </tr>\n",
       "  </thead>\n",
       "  <tbody>\n",
       "    <tr>\n",
       "      <th>0</th>\n",
       "      <td>0.00632</td>\n",
       "      <td>18.0</td>\n",
       "      <td>2.31</td>\n",
       "      <td>0</td>\n",
       "      <td>0.538</td>\n",
       "      <td>6.575</td>\n",
       "      <td>65.2</td>\n",
       "      <td>4.0900</td>\n",
       "      <td>1</td>\n",
       "      <td>296.0</td>\n",
       "      <td>15.3</td>\n",
       "      <td>396.90</td>\n",
       "      <td>4.98</td>\n",
       "      <td>24.0</td>\n",
       "    </tr>\n",
       "    <tr>\n",
       "      <th>1</th>\n",
       "      <td>0.02731</td>\n",
       "      <td>0.0</td>\n",
       "      <td>7.07</td>\n",
       "      <td>0</td>\n",
       "      <td>0.469</td>\n",
       "      <td>6.421</td>\n",
       "      <td>78.9</td>\n",
       "      <td>4.9671</td>\n",
       "      <td>2</td>\n",
       "      <td>242.0</td>\n",
       "      <td>17.8</td>\n",
       "      <td>396.90</td>\n",
       "      <td>9.14</td>\n",
       "      <td>21.6</td>\n",
       "    </tr>\n",
       "    <tr>\n",
       "      <th>2</th>\n",
       "      <td>0.02729</td>\n",
       "      <td>0.0</td>\n",
       "      <td>7.07</td>\n",
       "      <td>0</td>\n",
       "      <td>0.469</td>\n",
       "      <td>7.185</td>\n",
       "      <td>61.1</td>\n",
       "      <td>4.9671</td>\n",
       "      <td>2</td>\n",
       "      <td>242.0</td>\n",
       "      <td>17.8</td>\n",
       "      <td>392.83</td>\n",
       "      <td>4.03</td>\n",
       "      <td>34.7</td>\n",
       "    </tr>\n",
       "    <tr>\n",
       "      <th>3</th>\n",
       "      <td>0.03237</td>\n",
       "      <td>0.0</td>\n",
       "      <td>2.18</td>\n",
       "      <td>0</td>\n",
       "      <td>0.458</td>\n",
       "      <td>6.998</td>\n",
       "      <td>45.8</td>\n",
       "      <td>6.0622</td>\n",
       "      <td>3</td>\n",
       "      <td>222.0</td>\n",
       "      <td>18.7</td>\n",
       "      <td>394.63</td>\n",
       "      <td>2.94</td>\n",
       "      <td>33.4</td>\n",
       "    </tr>\n",
       "    <tr>\n",
       "      <th>4</th>\n",
       "      <td>0.06905</td>\n",
       "      <td>0.0</td>\n",
       "      <td>2.18</td>\n",
       "      <td>0</td>\n",
       "      <td>0.458</td>\n",
       "      <td>7.147</td>\n",
       "      <td>54.2</td>\n",
       "      <td>6.0622</td>\n",
       "      <td>3</td>\n",
       "      <td>222.0</td>\n",
       "      <td>18.7</td>\n",
       "      <td>396.90</td>\n",
       "      <td>5.33</td>\n",
       "      <td>36.2</td>\n",
       "    </tr>\n",
       "  </tbody>\n",
       "</table>\n",
       "</div>"
      ],
      "text/plain": [
       "      CRIM    ZN  INDUS  CHAS     NX     RM   AGE     DIS  RAD    TAX  \\\n",
       "0  0.00632  18.0   2.31     0  0.538  6.575  65.2  4.0900    1  296.0   \n",
       "1  0.02731   0.0   7.07     0  0.469  6.421  78.9  4.9671    2  242.0   \n",
       "2  0.02729   0.0   7.07     0  0.469  7.185  61.1  4.9671    2  242.0   \n",
       "3  0.03237   0.0   2.18     0  0.458  6.998  45.8  6.0622    3  222.0   \n",
       "4  0.06905   0.0   2.18     0  0.458  7.147  54.2  6.0622    3  222.0   \n",
       "\n",
       "   PTRATIO       B  LSTAT  MEDV  \n",
       "0     15.3  396.90   4.98  24.0  \n",
       "1     17.8  396.90   9.14  21.6  \n",
       "2     17.8  392.83   4.03  34.7  \n",
       "3     18.7  394.63   2.94  33.4  \n",
       "4     18.7  396.90   5.33  36.2  "
      ]
     },
     "execution_count": 72,
     "metadata": {},
     "output_type": "execute_result"
    }
   ],
   "source": [
    "boston = pd.read_csv('viviendas/boston.csv')\n",
    "boston.head()"
   ]
  },
  {
   "cell_type": "markdown",
   "id": "88bc33d7-a6bd-4178-a147-00d8338a358c",
   "metadata": {},
   "source": [
    "- CRIM -> tasa de criminalidad per cápita\n",
    "- NX -> Concentración de óxido nítrico\n",
    "- NM -> Número medio de habitaciones por vivienda\n",
    "- MEDV -> Valor medio de las viviendas ocupadas por sus propietarios en miles de dolares (VALOR OBJETIVO)\n",
    "- RM -> Cantidad promedio de habitaciones en un bloque"
   ]
  },
  {
   "cell_type": "code",
   "execution_count": 73,
   "id": "1f255474-d32b-44f4-a6fb-f54a20d9784c",
   "metadata": {},
   "outputs": [],
   "source": [
    "# Creando matrices de características y destino\n",
    "X = boston.drop('MEDV', axis = 1).values\n",
    "y = boston['MEDV'].values"
   ]
  },
  {
   "cell_type": "markdown",
   "id": "146f7106-6475-4357-b67c-d634d786fea8",
   "metadata": {},
   "source": [
    "## Intentemos predecir el precio a partir de una sola función: la cantidad promedio de habitaciones en un bloque"
   ]
  },
  {
   "cell_type": "code",
   "execution_count": 74,
   "id": "ea24a4cc-6bb1-4518-85ed-5231d2f162aa",
   "metadata": {},
   "outputs": [],
   "source": [
    "X_rooms = X[:,5]"
   ]
  },
  {
   "cell_type": "code",
   "execution_count": 75,
   "id": "890ebbd9-6c50-4345-bdd6-fc7c4428f7b9",
   "metadata": {},
   "outputs": [
    {
     "data": {
      "text/plain": [
       "(numpy.ndarray, numpy.ndarray)"
      ]
     },
     "execution_count": 75,
     "metadata": {},
     "output_type": "execute_result"
    }
   ],
   "source": [
    "# Verificamos que las dos variables son matrices\n",
    "type(X_rooms), type(y)"
   ]
  },
  {
   "cell_type": "code",
   "execution_count": 76,
   "id": "a92d00dd-8138-481a-8b72-85b6b757308c",
   "metadata": {},
   "outputs": [],
   "source": [
    "# Redimiencionando\n",
    "y = y.reshape(-1,1)\n",
    "X_rooms = X_rooms.reshape(-1,1)"
   ]
  },
  {
   "cell_type": "code",
   "execution_count": 77,
   "id": "ba2566a4-4b50-4ba3-a95d-d4a5f78e683d",
   "metadata": {},
   "outputs": [
    {
     "data": {
      "image/png": "[encoded data removed]",
      "text/plain": [
       "<Figure size 432x288 with 1 Axes>"
      ]
     },
     "metadata": {},
     "output_type": "display_data"
    }
   ],
   "source": [
    "# trazaremos el valor de la casa en función del número de habitaciones usando la dispersión de puntos plt de matplotlib\n",
    "plt.scatter(X_rooms,y)\n",
    "plt.ylabel('Valor de la casa / 1000 ($)')\n",
    "plt.xlabel('Número de habitaciones')\n",
    "plt.show()"
   ]
  },
  {
   "cell_type": "markdown",
   "id": "b5195e3e-58cf-4e95-86bf-1dbb146ca86e",
   "metadata": {},
   "source": [
    "### Ajustando un modelo de regresión a nuestros datos y trazando predicciones"
   ]
  },
  {
   "cell_type": "code",
   "execution_count": 78,
   "id": "521c49ec-7c6e-4444-b501-833fba2e0b5a",
   "metadata": {},
   "outputs": [],
   "source": [
    "reg = LinearRegression()"
   ]
  },
  {
   "cell_type": "code",
   "execution_count": 79,
   "id": "6f4c2559-ce94-4f5e-aea3-cacb5cab32a1",
   "metadata": {},
   "outputs": [
    {
     "data": {
      "text/plain": [
       "LinearRegression()"
      ]
     },
     "execution_count": 79,
     "metadata": {},
     "output_type": "execute_result"
    }
   ],
   "source": [
    "# Ajustando la regresión a lo datos\n",
    "reg.fit(X_rooms,y)"
   ]
  },
  {
   "cell_type": "code",
   "execution_count": 80,
   "id": "aa0b729c-23e4-48a2-a8ae-748bf045640e",
   "metadata": {},
   "outputs": [],
   "source": [
    "# Verificando las predicciones de los regresores sobre el rango de los datos\n",
    "prediction_space = np.linspace(min(X_rooms),max(X_rooms)).reshape(-1,1)"
   ]
  },
  {
   "cell_type": "code",
   "execution_count": 81,
   "id": "77d1f7b4-65ae-4573-accc-68281ceb45d5",
   "metadata": {},
   "outputs": [
    {
     "data": {
      "image/png": "[encoded data removed]",
      "text/plain": [
       "<Figure size 432x288 with 1 Axes>"
      ]
     },
     "metadata": {},
     "output_type": "display_data"
    }
   ],
   "source": [
    "#plot\n",
    "plt.scatter(X_rooms,y,color='blue')\n",
    "plt.plot(prediction_space, reg.predict(prediction_space),color='black',linewidth=3)\n",
    "plt.show()"
   ]
  },
  {
   "cell_type": "markdown",
   "id": "434d4f7d-a878-4cef-aa68-12ca649ab8a6",
   "metadata": {},
   "source": [
    " ## Regresión lineal para los datos de vivienda en Boston"
   ]
  },
  {
   "cell_type": "code",
   "execution_count": 85,
   "id": "fb2970b1-f568-4e60-b6bf-45f60b47c120",
   "metadata": {},
   "outputs": [],
   "source": [
    "# dividimos el conjunto de datos en datos de prueba y de entrenamiento\n",
    "X_train, X_test, y_train, y_test = train_test_split(X, y, test_size = 0.3, random_state = 42)"
   ]
  },
  {
   "cell_type": "code",
   "execution_count": 92,
   "id": "9dfd55ce-e84a-43c1-918e-e2dafb8d7d74",
   "metadata": {},
   "outputs": [],
   "source": [
    "# Instanciamos el regresor\n",
    "reg_all = LinearRegression()"
   ]
  },
  {
   "cell_type": "code",
   "execution_count": 93,
   "id": "d2cd7b2e-477e-4733-8ac3-006ad63a24e1",
   "metadata": {},
   "outputs": [
    {
     "data": {
      "text/plain": [
       "LinearRegression()"
      ]
     },
     "execution_count": 93,
     "metadata": {},
     "output_type": "execute_result"
    }
   ],
   "source": [
    "# entrenamos el conjunto de datos\n",
    "reg_all.fit(X_train, y_train)"
   ]
  },
  {
   "cell_type": "code",
   "execution_count": 91,
   "id": "cc65a44a-4910-4a8e-b74a-2b8993d2f790",
   "metadata": {},
   "outputs": [],
   "source": [
    "# Predecimos el conjunto de prueba\n",
    "y_pred = reg_all.predict(X_test)"
   ]
  },
  {
   "cell_type": "code",
   "execution_count": 94,
   "id": "af6000b3-224d-4388-92b2-138ec93ecd4f",
   "metadata": {},
   "outputs": [
    {
     "data": {
      "text/plain": [
       "0.7112260057484879"
      ]
     },
     "execution_count": 94,
     "metadata": {},
     "output_type": "execute_result"
    }
   ],
   "source": [
    "# Calculamos el R cuadrado\n",
    "reg_all.score(X_test, y_test)"
   ]
  },
  {
   "cell_type": "code",
   "execution_count": null,
   "id": "72e203f2-2714-47d0-ae3c-edb09a1e925b",
   "metadata": {},
   "outputs": [],
   "source": []
  }
 ],
 "metadata": {
  "kernelspec": {
   "display_name": "Python 3",
   "language": "python",
   "name": "python3"
  },
  "language_info": {
   "codemirror_mode": {
    "name": "ipython",
    "version": 3
   },
   "file_extension": ".py",
   "mimetype": "text/x-python",
   "name": "python",
   "nbconvert_exporter": "python",
   "pygments_lexer": "ipython3",
   "version": "3.8.10"
  }
 },
 "nbformat": 4,
 "nbformat_minor": 5
}
