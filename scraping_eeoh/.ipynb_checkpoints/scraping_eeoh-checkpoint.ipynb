{
 "cells": [
  {
   "cell_type": "markdown",
   "id": "exclusive-vaccine",
   "metadata": {},
   "source": [
    "# Scraping eeoh de páginas similares para comparar precios"
   ]
  },
  {
   "cell_type": "code",
   "execution_count": 2,
   "id": "comprehensive-morocco",
   "metadata": {},
   "outputs": [],
   "source": [
    "#importar librarias\n",
    "import requests\n",
    "from lxml import html\n",
    "import pandas as pd\n",
    "\n",
    "import random\n",
    "from time import sleep\n",
    "from selenium import webdriver"
   ]
  },
  {
   "cell_type": "markdown",
   "id": "dense-reservoir",
   "metadata": {},
   "source": [
    "## Scraping \"holafan.com\""
   ]
  },
  {
   "cell_type": "code",
   "execution_count": 131,
   "id": "infinite-state",
   "metadata": {},
   "outputs": [],
   "source": [
    "encabezados = { \"user-agent\":\"Mozilla/5.0 (Windows NT 10.0; Win64; x64) AppleWebKit/537.36 (KHTML, like Gecko) Chrome/80.0.3987.149 Safari/537.36\" }\n",
    "url_holafan = \"https://holafan.com/collections/all\"\n",
    "respuesta = requests.get(url_holafan,headers=encabezados)\n",
    "parser = html.fromstring(respuesta.text)\n",
    "\n",
    "# extracción de nombres\n",
    "nombre = parser.find_class('product-item__title')\n",
    "nombres = [i.text_content() for i in nombre]\n",
    "\n",
    "#extracción de precios en pesos\n",
    "precio = parser.find_class('money')\n",
    "precios = [i.text_content() for i in precio]\n",
    "\n",
    "#limpieza de datos\n",
    "nombre_clean = [i.strip() for i in nombres]\n",
    "\n",
    "precio_clean = [i.strip(\"$, \") for i in precios]\n",
    "del(precio_clean[0])"
   ]
  },
  {
   "cell_type": "markdown",
   "id": "virtual-terrain",
   "metadata": {},
   "source": [
    "### Unir las listas \"nombre\" y \"precios\" en un dataframe"
   ]
  },
  {
   "cell_type": "code",
   "execution_count": 132,
   "id": "increasing-redhead",
   "metadata": {},
   "outputs": [],
   "source": [
    "holafan = pd.DataFrame()\n",
    "holafan[\"nombre\"] = nombre_clean\n",
    "holafan[\"precio\"] = precio_clean\n",
    "holafan[\"web\"] = \"hola fan\""
   ]
  },
  {
   "cell_type": "code",
   "execution_count": 133,
   "id": "derived-album",
   "metadata": {},
   "outputs": [],
   "source": [
    "holafan['precio'] = holafan['precio'].replace({',':''}, regex=True)"
   ]
  },
  {
   "cell_type": "code",
   "execution_count": 134,
   "id": "rental-treatment",
   "metadata": {},
   "outputs": [],
   "source": [
    "# ajustemos las variables numéricas\n",
    "holafan['precio']=pd.to_numeric(holafan['precio'],errors='coerce')"
   ]
  },
  {
   "cell_type": "markdown",
   "id": "damaged-donor",
   "metadata": {},
   "source": [
    "### tipo de cambio a bs."
   ]
  },
  {
   "cell_type": "code",
   "execution_count": 135,
   "id": "desirable-russia",
   "metadata": {},
   "outputs": [],
   "source": [
    "holafan['precio']=holafan['precio']*0.34"
   ]
  },
  {
   "cell_type": "markdown",
   "id": "offensive-toilet",
   "metadata": {},
   "source": [
    "## Scraping \"mocitox.com\""
   ]
  },
  {
   "cell_type": "code",
   "execution_count": 14,
   "id": "preliminary-mustang",
   "metadata": {},
   "outputs": [],
   "source": [
    "driver = webdriver.Chrome('./chromedriver.exe')\n",
    "driver.get('https://mocitox.com/famosos/')\n",
    "\n",
    "artistas = driver.find_elements_by_xpath('//div[@class = \"un-product-details\"]')"
   ]
  },
  {
   "cell_type": "code",
   "execution_count": 15,
   "id": "cheap-sword",
   "metadata": {},
   "outputs": [],
   "source": [
    "for artista in artistas:\n",
    "    nombre = artista.find_element_by_xpath('./h3/a')"
   ]
  }
 ],
 "metadata": {
  "kernelspec": {
   "display_name": "Python 3",
   "language": "python",
   "name": "python3"
  },
  "language_info": {
   "codemirror_mode": {
    "name": "ipython",
    "version": 3
   },
   "file_extension": ".py",
   "mimetype": "text/x-python",
   "name": "python",
   "nbconvert_exporter": "python",
   "pygments_lexer": "ipython3",
   "version": "3.8.8"
  }
 },
 "nbformat": 4,
 "nbformat_minor": 5
}
