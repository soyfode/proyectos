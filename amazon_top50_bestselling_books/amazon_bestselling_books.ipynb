{
 "cells": [
  {
   "cell_type": "markdown",
   "metadata": {},
   "source": [
    "# Libros best seller de Amazon 2009-2019"
   ]
  },
  {
   "cell_type": "markdown",
   "metadata": {},
   "source": [
    "#### Librerias"
   ]
  },
  {
   "cell_type": "code",
   "execution_count": 84,
   "metadata": {},
   "outputs": [],
   "source": [
    "import pandas as pd\n",
    "import matplotlib.pyplot as plt\n",
    "import seaborn as sns"
   ]
  },
  {
   "cell_type": "markdown",
   "metadata": {},
   "source": [
    "### importando el dataset"
   ]
  },
  {
   "cell_type": "code",
   "execution_count": 64,
   "metadata": {},
   "outputs": [
    {
     "data": {
      "text/html": [
       "<div>\n",
       "<style scoped>\n",
       "    .dataframe tbody tr th:only-of-type {\n",
       "        vertical-align: middle;\n",
       "    }\n",
       "\n",
       "    .dataframe tbody tr th {\n",
       "        vertical-align: top;\n",
       "    }\n",
       "\n",
       "    .dataframe thead th {\n",
       "        text-align: right;\n",
       "    }\n",
       "</style>\n",
       "<table border=\"1\" class=\"dataframe\">\n",
       "  <thead>\n",
       "    <tr style=\"text-align: right;\">\n",
       "      <th></th>\n",
       "      <th>Name</th>\n",
       "      <th>Author</th>\n",
       "      <th>User Rating</th>\n",
       "      <th>Reviews</th>\n",
       "      <th>Price</th>\n",
       "      <th>Year</th>\n",
       "      <th>Genre</th>\n",
       "    </tr>\n",
       "  </thead>\n",
       "  <tbody>\n",
       "    <tr>\n",
       "      <th>0</th>\n",
       "      <td>10-Day Green Smoothie Cleanse</td>\n",
       "      <td>JJ Smith</td>\n",
       "      <td>4.7</td>\n",
       "      <td>17350</td>\n",
       "      <td>8</td>\n",
       "      <td>2016</td>\n",
       "      <td>Non Fiction</td>\n",
       "    </tr>\n",
       "    <tr>\n",
       "      <th>1</th>\n",
       "      <td>11/22/63: A Novel</td>\n",
       "      <td>Stephen King</td>\n",
       "      <td>4.6</td>\n",
       "      <td>2052</td>\n",
       "      <td>22</td>\n",
       "      <td>2011</td>\n",
       "      <td>Fiction</td>\n",
       "    </tr>\n",
       "    <tr>\n",
       "      <th>2</th>\n",
       "      <td>12 Rules for Life: An Antidote to Chaos</td>\n",
       "      <td>Jordan B. Peterson</td>\n",
       "      <td>4.7</td>\n",
       "      <td>18979</td>\n",
       "      <td>15</td>\n",
       "      <td>2018</td>\n",
       "      <td>Non Fiction</td>\n",
       "    </tr>\n",
       "    <tr>\n",
       "      <th>3</th>\n",
       "      <td>1984 (Signet Classics)</td>\n",
       "      <td>George Orwell</td>\n",
       "      <td>4.7</td>\n",
       "      <td>21424</td>\n",
       "      <td>6</td>\n",
       "      <td>2017</td>\n",
       "      <td>Fiction</td>\n",
       "    </tr>\n",
       "    <tr>\n",
       "      <th>4</th>\n",
       "      <td>5,000 Awesome Facts (About Everything!) (Natio...</td>\n",
       "      <td>National Geographic Kids</td>\n",
       "      <td>4.8</td>\n",
       "      <td>7665</td>\n",
       "      <td>12</td>\n",
       "      <td>2019</td>\n",
       "      <td>Non Fiction</td>\n",
       "    </tr>\n",
       "  </tbody>\n",
       "</table>\n",
       "</div>"
      ],
      "text/plain": [
       "                                                Name                    Author  ...  Year        Genre\n",
       "0                      10-Day Green Smoothie Cleanse                  JJ Smith  ...  2016  Non Fiction\n",
       "1                                  11/22/63: A Novel              Stephen King  ...  2011      Fiction\n",
       "2            12 Rules for Life: An Antidote to Chaos        Jordan B. Peterson  ...  2018  Non Fiction\n",
       "3                             1984 (Signet Classics)             George Orwell  ...  2017      Fiction\n",
       "4  5,000 Awesome Facts (About Everything!) (Natio...  National Geographic Kids  ...  2019  Non Fiction\n",
       "\n",
       "[5 rows x 7 columns]"
      ]
     },
     "execution_count": 64,
     "metadata": {},
     "output_type": "execute_result"
    }
   ],
   "source": [
    "book = pd.read_csv('bestsellers with categories.csv')\n",
    "book.head()"
   ]
  },
  {
   "cell_type": "code",
   "execution_count": 61,
   "metadata": {},
   "outputs": [
    {
     "data": {
      "text/html": [
       "<div>\n",
       "<style scoped>\n",
       "    .dataframe tbody tr th:only-of-type {\n",
       "        vertical-align: middle;\n",
       "    }\n",
       "\n",
       "    .dataframe tbody tr th {\n",
       "        vertical-align: top;\n",
       "    }\n",
       "\n",
       "    .dataframe thead th {\n",
       "        text-align: right;\n",
       "    }\n",
       "</style>\n",
       "<table border=\"1\" class=\"dataframe\">\n",
       "  <thead>\n",
       "    <tr style=\"text-align: right;\">\n",
       "      <th></th>\n",
       "      <th>Name</th>\n",
       "      <th>Author</th>\n",
       "      <th>Genre</th>\n",
       "      <th>User Rating</th>\n",
       "      <th>Reviews</th>\n",
       "      <th>Weighted Rating</th>\n",
       "    </tr>\n",
       "  </thead>\n",
       "  <tbody>\n",
       "    <tr>\n",
       "      <th>178</th>\n",
       "      <td>Oh, the Places You'll Go!</td>\n",
       "      <td>Dr. Seuss</td>\n",
       "      <td>Fiction</td>\n",
       "      <td>4.9</td>\n",
       "      <td>21834.0</td>\n",
       "      <td>4.899524</td>\n",
       "    </tr>\n",
       "    <tr>\n",
       "      <th>116</th>\n",
       "      <td>Harry Potter and the Chamber of Secrets: The I...</td>\n",
       "      <td>J.K. Rowling</td>\n",
       "      <td>Fiction</td>\n",
       "      <td>4.9</td>\n",
       "      <td>19622.0</td>\n",
       "      <td>4.899470</td>\n",
       "    </tr>\n",
       "    <tr>\n",
       "      <th>140</th>\n",
       "      <td>Jesus Calling: Enjoying Peace in His Presence ...</td>\n",
       "      <td>Sarah Young</td>\n",
       "      <td>Non Fiction</td>\n",
       "      <td>4.9</td>\n",
       "      <td>19576.0</td>\n",
       "      <td>4.899469</td>\n",
       "    </tr>\n",
       "    <tr>\n",
       "      <th>310</th>\n",
       "      <td>The Very Hungry Caterpillar</td>\n",
       "      <td>Eric Carle</td>\n",
       "      <td>Fiction</td>\n",
       "      <td>4.9</td>\n",
       "      <td>19546.0</td>\n",
       "      <td>4.899468</td>\n",
       "    </tr>\n",
       "    <tr>\n",
       "      <th>36</th>\n",
       "      <td>Brown Bear, Brown Bear, What Do You See?</td>\n",
       "      <td>Bill Martin Jr.</td>\n",
       "      <td>Fiction</td>\n",
       "      <td>4.9</td>\n",
       "      <td>14344.0</td>\n",
       "      <td>4.899275</td>\n",
       "    </tr>\n",
       "    <tr>\n",
       "      <th>69</th>\n",
       "      <td>Dog Man: Fetch-22: From the Creator of Captain...</td>\n",
       "      <td>Dav Pilkey</td>\n",
       "      <td>Fiction</td>\n",
       "      <td>4.9</td>\n",
       "      <td>12619.0</td>\n",
       "      <td>4.899177</td>\n",
       "    </tr>\n",
       "    <tr>\n",
       "      <th>151</th>\n",
       "      <td>Last Week Tonight with John Oliver Presents A ...</td>\n",
       "      <td>Jill Twiss</td>\n",
       "      <td>Fiction</td>\n",
       "      <td>4.9</td>\n",
       "      <td>11881.0</td>\n",
       "      <td>4.899126</td>\n",
       "    </tr>\n",
       "    <tr>\n",
       "      <th>120</th>\n",
       "      <td>Harry Potter and the Sorcerer's Stone: The Ill...</td>\n",
       "      <td>J.K. Rowling</td>\n",
       "      <td>Fiction</td>\n",
       "      <td>4.9</td>\n",
       "      <td>10052.0</td>\n",
       "      <td>4.898967</td>\n",
       "    </tr>\n",
       "    <tr>\n",
       "      <th>349</th>\n",
       "      <td>Wrecking Ball (Diary of a Wimpy Kid Book 14)</td>\n",
       "      <td>Jeff Kinney</td>\n",
       "      <td>Fiction</td>\n",
       "      <td>4.9</td>\n",
       "      <td>9413.0</td>\n",
       "      <td>4.898897</td>\n",
       "    </tr>\n",
       "    <tr>\n",
       "      <th>208</th>\n",
       "      <td>Strange Planet (Strange Planet Series)</td>\n",
       "      <td>Nathan W. Pyle</td>\n",
       "      <td>Fiction</td>\n",
       "      <td>4.9</td>\n",
       "      <td>9382.0</td>\n",
       "      <td>4.898894</td>\n",
       "    </tr>\n",
       "  </tbody>\n",
       "</table>\n",
       "</div>"
      ],
      "text/plain": [
       "                                                  Name           Author  ...  Reviews  Weighted Rating\n",
       "178                          Oh, the Places You'll Go!        Dr. Seuss  ...  21834.0         4.899524\n",
       "116  Harry Potter and the Chamber of Secrets: The I...     J.K. Rowling  ...  19622.0         4.899470\n",
       "140  Jesus Calling: Enjoying Peace in His Presence ...      Sarah Young  ...  19576.0         4.899469\n",
       "310                        The Very Hungry Caterpillar       Eric Carle  ...  19546.0         4.899468\n",
       "36            Brown Bear, Brown Bear, What Do You See?  Bill Martin Jr.  ...  14344.0         4.899275\n",
       "69   Dog Man: Fetch-22: From the Creator of Captain...       Dav Pilkey  ...  12619.0         4.899177\n",
       "151  Last Week Tonight with John Oliver Presents A ...       Jill Twiss  ...  11881.0         4.899126\n",
       "120  Harry Potter and the Sorcerer's Stone: The Ill...     J.K. Rowling  ...  10052.0         4.898967\n",
       "349       Wrecking Ball (Diary of a Wimpy Kid Book 14)      Jeff Kinney  ...   9413.0         4.898897\n",
       "208             Strange Planet (Strange Planet Series)   Nathan W. Pyle  ...   9382.0         4.898894\n",
       "\n",
       "[10 rows x 6 columns]"
      ]
     },
     "execution_count": 61,
     "metadata": {},
     "output_type": "execute_result"
    }
   ],
   "source": [
    "book.groupby(['Name','Author','Genre'], as_index=False)[['User Rating', 'Reviews', 'Weighted Rating']].mean().sort_values(by='Weighted Rating', ascending=False).head(10)"
   ]
  },
  {
   "cell_type": "markdown",
   "metadata": {},
   "source": [
    "### Verificando el data set"
   ]
  },
  {
   "cell_type": "code",
   "execution_count": 65,
   "metadata": {},
   "outputs": [
    {
     "name": "stdout",
     "output_type": "stream",
     "text": [
      "<class 'pandas.core.frame.DataFrame'>\n",
      "RangeIndex: 550 entries, 0 to 549\n",
      "Data columns (total 7 columns):\n",
      " #   Column       Non-Null Count  Dtype  \n",
      "---  ------       --------------  -----  \n",
      " 0   Name         550 non-null    object \n",
      " 1   Author       550 non-null    object \n",
      " 2   User Rating  550 non-null    float64\n",
      " 3   Reviews      550 non-null    int64  \n",
      " 4   Price        550 non-null    int64  \n",
      " 5   Year         550 non-null    int64  \n",
      " 6   Genre        550 non-null    object \n",
      "dtypes: float64(1), int64(3), object(3)\n",
      "memory usage: 30.2+ KB\n"
     ]
    }
   ],
   "source": [
    "book.info()"
   ]
  },
  {
   "cell_type": "markdown",
   "metadata": {},
   "source": [
    "### Verificando valores faltantes en el data set"
   ]
  },
  {
   "cell_type": "code",
   "execution_count": 66,
   "metadata": {},
   "outputs": [
    {
     "data": {
      "text/plain": [
       "Name           0\n",
       "Author         0\n",
       "User Rating    0\n",
       "Reviews        0\n",
       "Price          0\n",
       "Year           0\n",
       "Genre          0\n",
       "dtype: int64"
      ]
     },
     "execution_count": 66,
     "metadata": {},
     "output_type": "execute_result"
    }
   ],
   "source": [
    "book.isnull().sum()"
   ]
  },
  {
   "cell_type": "markdown",
   "metadata": {},
   "source": [
    "### Verificando valores duplicados"
   ]
  },
  {
   "cell_type": "code",
   "execution_count": 67,
   "metadata": {},
   "outputs": [
    {
     "data": {
      "text/plain": [
       "Publication Manual of the American Psychological Association, 6th Edition       10\n",
       "StrengthsFinder 2.0                                                              9\n",
       "Oh, the Places You'll Go!                                                        8\n",
       "The 7 Habits of Highly Effective People: Powerful Lessons in Personal Change     7\n",
       "The Very Hungry Caterpillar                                                      7\n",
       "                                                                                ..\n",
       "Dead in the Family (Sookie Stackhouse/True Blood, Book 10)                       1\n",
       "The Paris Wife: A Novel                                                          1\n",
       "The Short Second Life of Bree Tanner: An Eclipse Novella (The Twilight Saga)     1\n",
       "Shred: The Revolutionary Diet: 6 Weeks 4 Inches 2 Sizes                          1\n",
       "Breaking Dawn (The Twilight Saga, Book 4)                                        1\n",
       "Name: Name, Length: 351, dtype: int64"
      ]
     },
     "execution_count": 67,
     "metadata": {},
     "output_type": "execute_result"
    }
   ],
   "source": [
    "book['Name'].value_counts()"
   ]
  },
  {
   "cell_type": "markdown",
   "metadata": {},
   "source": [
    "## Realizando el analisis exploratorio de datos "
   ]
  },
  {
   "cell_type": "code",
   "execution_count": 68,
   "metadata": {},
   "outputs": [
    {
     "name": "stdout",
     "output_type": "stream",
     "text": [
      "Non Fiction    310\n",
      "Fiction        240\n",
      "Name: Genre, dtype: int64\n",
      "\n",
      "Non Fiction    0.563636\n",
      "Fiction        0.436364\n",
      "Name: Genre, dtype: float64\n"
     ]
    }
   ],
   "source": [
    "print(book['Genre'].value_counts())\n",
    "print()\n",
    "print(book['Genre'].value_counts(normalize=True))"
   ]
  },
  {
   "cell_type": "markdown",
   "metadata": {},
   "source": [
    "Hay más libros de \"no ficción\" en los rankings más vendidos, con aproximadamente el 56% del conjunto de datos más vendido que pertenece a libros de no ficción, esto incluye todo, desde memorias hasta libros de arte y fotografía."
   ]
  },
  {
   "cell_type": "markdown",
   "metadata": {},
   "source": [
    "### Clasificaciones de libros"
   ]
  },
  {
   "cell_type": "markdown",
   "metadata": {},
   "source": [
    "La clasificación da un número relativamente alto de calificaciones (4.9), sin embargo, podemos ver diferencias significativas en el número de reseñas, con algunos libros que tienen poco más de 3000 reseñas mientras que otros tienen alrededor de 20,000. Una calificación ponderada, que toma en consideración el número de reseñas, será una mejor opción para esta clasificación."
   ]
  },
  {
   "cell_type": "markdown",
   "metadata": {},
   "source": [
    "$$Calificación \\; Ponderada \\; (WR)= \\left( \\dfrac{v}{v+m} \\cdot R \\right) + \\left( \\dfrac{m}{v+m} \\cdot C\\right)$$"
   ]
  },
  {
   "cell_type": "markdown",
   "metadata": {},
   "source": [
    "- R = Calificación promedio del libro\n",
    "- v = Número de reseñas del libro\n",
    "- m = Revisiones mínimas necesarias para aparecer en la lista de los más vendidos\n",
    "- C = La calificación media en el conjunto de datos"
   ]
  },
  {
   "cell_type": "code",
   "execution_count": 82,
   "metadata": {},
   "outputs": [
    {
     "data": {
      "text/html": [
       "<div>\n",
       "<style scoped>\n",
       "    .dataframe tbody tr th:only-of-type {\n",
       "        vertical-align: middle;\n",
       "    }\n",
       "\n",
       "    .dataframe tbody tr th {\n",
       "        vertical-align: top;\n",
       "    }\n",
       "\n",
       "    .dataframe thead th {\n",
       "        text-align: right;\n",
       "    }\n",
       "</style>\n",
       "<table border=\"1\" class=\"dataframe\">\n",
       "  <thead>\n",
       "    <tr style=\"text-align: right;\">\n",
       "      <th></th>\n",
       "      <th>Name</th>\n",
       "      <th>Author</th>\n",
       "      <th>Genre</th>\n",
       "      <th>User Rating</th>\n",
       "      <th>Reviews</th>\n",
       "      <th>Calificación ponderada</th>\n",
       "    </tr>\n",
       "  </thead>\n",
       "  <tbody>\n",
       "    <tr>\n",
       "      <th>178</th>\n",
       "      <td>Oh, the Places You'll Go!</td>\n",
       "      <td>Dr. Seuss</td>\n",
       "      <td>Fiction</td>\n",
       "      <td>4.9</td>\n",
       "      <td>21834.0</td>\n",
       "      <td>4.899524</td>\n",
       "    </tr>\n",
       "    <tr>\n",
       "      <th>116</th>\n",
       "      <td>Harry Potter and the Chamber of Secrets: The I...</td>\n",
       "      <td>J.K. Rowling</td>\n",
       "      <td>Fiction</td>\n",
       "      <td>4.9</td>\n",
       "      <td>19622.0</td>\n",
       "      <td>4.899470</td>\n",
       "    </tr>\n",
       "    <tr>\n",
       "      <th>140</th>\n",
       "      <td>Jesus Calling: Enjoying Peace in His Presence ...</td>\n",
       "      <td>Sarah Young</td>\n",
       "      <td>Non Fiction</td>\n",
       "      <td>4.9</td>\n",
       "      <td>19576.0</td>\n",
       "      <td>4.899469</td>\n",
       "    </tr>\n",
       "    <tr>\n",
       "      <th>310</th>\n",
       "      <td>The Very Hungry Caterpillar</td>\n",
       "      <td>Eric Carle</td>\n",
       "      <td>Fiction</td>\n",
       "      <td>4.9</td>\n",
       "      <td>19546.0</td>\n",
       "      <td>4.899468</td>\n",
       "    </tr>\n",
       "    <tr>\n",
       "      <th>36</th>\n",
       "      <td>Brown Bear, Brown Bear, What Do You See?</td>\n",
       "      <td>Bill Martin Jr.</td>\n",
       "      <td>Fiction</td>\n",
       "      <td>4.9</td>\n",
       "      <td>14344.0</td>\n",
       "      <td>4.899275</td>\n",
       "    </tr>\n",
       "    <tr>\n",
       "      <th>69</th>\n",
       "      <td>Dog Man: Fetch-22: From the Creator of Captain...</td>\n",
       "      <td>Dav Pilkey</td>\n",
       "      <td>Fiction</td>\n",
       "      <td>4.9</td>\n",
       "      <td>12619.0</td>\n",
       "      <td>4.899177</td>\n",
       "    </tr>\n",
       "    <tr>\n",
       "      <th>151</th>\n",
       "      <td>Last Week Tonight with John Oliver Presents A ...</td>\n",
       "      <td>Jill Twiss</td>\n",
       "      <td>Fiction</td>\n",
       "      <td>4.9</td>\n",
       "      <td>11881.0</td>\n",
       "      <td>4.899126</td>\n",
       "    </tr>\n",
       "    <tr>\n",
       "      <th>120</th>\n",
       "      <td>Harry Potter and the Sorcerer's Stone: The Ill...</td>\n",
       "      <td>J.K. Rowling</td>\n",
       "      <td>Fiction</td>\n",
       "      <td>4.9</td>\n",
       "      <td>10052.0</td>\n",
       "      <td>4.898967</td>\n",
       "    </tr>\n",
       "    <tr>\n",
       "      <th>349</th>\n",
       "      <td>Wrecking Ball (Diary of a Wimpy Kid Book 14)</td>\n",
       "      <td>Jeff Kinney</td>\n",
       "      <td>Fiction</td>\n",
       "      <td>4.9</td>\n",
       "      <td>9413.0</td>\n",
       "      <td>4.898897</td>\n",
       "    </tr>\n",
       "    <tr>\n",
       "      <th>208</th>\n",
       "      <td>Strange Planet (Strange Planet Series)</td>\n",
       "      <td>Nathan W. Pyle</td>\n",
       "      <td>Fiction</td>\n",
       "      <td>4.9</td>\n",
       "      <td>9382.0</td>\n",
       "      <td>4.898894</td>\n",
       "    </tr>\n",
       "  </tbody>\n",
       "</table>\n",
       "</div>"
      ],
      "text/plain": [
       "                                                  Name           Author  ...  Reviews  Calificación ponderada\n",
       "178                          Oh, the Places You'll Go!        Dr. Seuss  ...  21834.0                4.899524\n",
       "116  Harry Potter and the Chamber of Secrets: The I...     J.K. Rowling  ...  19622.0                4.899470\n",
       "140  Jesus Calling: Enjoying Peace in His Presence ...      Sarah Young  ...  19576.0                4.899469\n",
       "310                        The Very Hungry Caterpillar       Eric Carle  ...  19546.0                4.899468\n",
       "36            Brown Bear, Brown Bear, What Do You See?  Bill Martin Jr.  ...  14344.0                4.899275\n",
       "69   Dog Man: Fetch-22: From the Creator of Captain...       Dav Pilkey  ...  12619.0                4.899177\n",
       "151  Last Week Tonight with John Oliver Presents A ...       Jill Twiss  ...  11881.0                4.899126\n",
       "120  Harry Potter and the Sorcerer's Stone: The Ill...     J.K. Rowling  ...  10052.0                4.898967\n",
       "349       Wrecking Ball (Diary of a Wimpy Kid Book 14)      Jeff Kinney  ...   9413.0                4.898897\n",
       "208             Strange Planet (Strange Planet Series)   Nathan W. Pyle  ...   9382.0                4.898894\n",
       "\n",
       "[10 rows x 6 columns]"
      ]
     },
     "execution_count": 82,
     "metadata": {},
     "output_type": "execute_result"
    }
   ],
   "source": [
    "# Calificación ponderada\n",
    "\n",
    "m = min(book['Reviews'])\n",
    "C = book['User Rating'].mean()\n",
    "\n",
    "def ponderada(x, m=m, C=C):\n",
    "    v = x['Reviews']\n",
    "    R = x['User Rating']\n",
    "    return (v/(v+m) * R) + (m/(m+v) * C)\n",
    "\n",
    "book['Calificación ponderada'] = book.apply(ponderada, axis=1)\n",
    "\n",
    "book.groupby(['Name','Author','Genre'], as_index=False)[['User Rating','Reviews','Calificación ponderada']].mean().sort_values('Calificación ponderada',ascending=False).head(10)"
   ]
  },
  {
   "cell_type": "markdown",
   "metadata": {},
   "source": [
    "Si bien una serie de filas en la columna de calificación ponderada aún se pueden redondear a 4.9, existe una diferencia suficiente entre los diversos libros como para clasificarlos. Como acotación al margen, nueve de los 10 libros principales, según las clasificaciones ponderadas, pertenecen al género de ficción. Esto podría tomarse como una señal del dominio del género de ficción en los rankings de calificación."
   ]
  },
  {
   "cell_type": "markdown",
   "metadata": {},
   "source": [
    "#### Relación entre valoraciones y reseñas de usuarios"
   ]
  },
  {
   "cell_type": "code",
   "execution_count": 86,
   "metadata": {},
   "outputs": [
    {
     "data": {
      "text/plain": [
       "<seaborn.axisgrid.JointGrid at 0x7fbe2f3ed390>"
      ]
     },
     "execution_count": 86,
     "metadata": {},
     "output_type": "execute_result"
    },
    {
     "data": {
      "image/png": "[encoded data removed]",
      "text/plain": [
       "<Figure size 432x432 with 3 Axes>"
      ]
     },
     "metadata": {
      "needs_background": "light"
     },
     "output_type": "display_data"
    }
   ],
   "source": [
    "sns.jointplot(x='User Rating',y='Reviews',data=book,kind='hex',color='Green')"
   ]
  },
  {
   "cell_type": "markdown",
   "metadata": {},
   "source": [
    "A partir de esto, podemos ver que los libros con una calificación más alta tienen menos número de revisiones, excepto unos pocos y los libros con calificaciones de 3.8 - 4.2 son los que tienen el mayor número de revisiones, lo que muestra que estos datos no están normalizados."
   ]
  },
  {
   "cell_type": "markdown",
   "metadata": {},
   "source": [
    "### Gráficos de correlación"
   ]
  },
  {
   "cell_type": "code",
   "execution_count": 88,
   "metadata": {},
   "outputs": [
    {
     "data": {
      "text/html": [
       "<div>\n",
       "<style scoped>\n",
       "    .dataframe tbody tr th:only-of-type {\n",
       "        vertical-align: middle;\n",
       "    }\n",
       "\n",
       "    .dataframe tbody tr th {\n",
       "        vertical-align: top;\n",
       "    }\n",
       "\n",
       "    .dataframe thead th {\n",
       "        text-align: right;\n",
       "    }\n",
       "</style>\n",
       "<table border=\"1\" class=\"dataframe\">\n",
       "  <thead>\n",
       "    <tr style=\"text-align: right;\">\n",
       "      <th></th>\n",
       "      <th>User Rating</th>\n",
       "      <th>Reviews</th>\n",
       "      <th>Price</th>\n",
       "      <th>Year</th>\n",
       "      <th>Calificación ponderada</th>\n",
       "    </tr>\n",
       "  </thead>\n",
       "  <tbody>\n",
       "    <tr>\n",
       "      <th>User Rating</th>\n",
       "      <td>1.000000</td>\n",
       "      <td>-0.001729</td>\n",
       "      <td>-0.133086</td>\n",
       "      <td>0.242383</td>\n",
       "      <td>0.999949</td>\n",
       "    </tr>\n",
       "    <tr>\n",
       "      <th>Reviews</th>\n",
       "      <td>-0.001729</td>\n",
       "      <td>1.000000</td>\n",
       "      <td>-0.109182</td>\n",
       "      <td>0.263560</td>\n",
       "      <td>-0.003530</td>\n",
       "    </tr>\n",
       "    <tr>\n",
       "      <th>Price</th>\n",
       "      <td>-0.133086</td>\n",
       "      <td>-0.109182</td>\n",
       "      <td>1.000000</td>\n",
       "      <td>-0.153979</td>\n",
       "      <td>-0.132978</td>\n",
       "    </tr>\n",
       "    <tr>\n",
       "      <th>Year</th>\n",
       "      <td>0.242383</td>\n",
       "      <td>0.263560</td>\n",
       "      <td>-0.153979</td>\n",
       "      <td>1.000000</td>\n",
       "      <td>0.241403</td>\n",
       "    </tr>\n",
       "    <tr>\n",
       "      <th>Calificación ponderada</th>\n",
       "      <td>0.999949</td>\n",
       "      <td>-0.003530</td>\n",
       "      <td>-0.132978</td>\n",
       "      <td>0.241403</td>\n",
       "      <td>1.000000</td>\n",
       "    </tr>\n",
       "  </tbody>\n",
       "</table>\n",
       "</div>"
      ],
      "text/plain": [
       "                        User Rating   Reviews     Price      Year  Calificación ponderada\n",
       "User Rating                1.000000 -0.001729 -0.133086  0.242383                0.999949\n",
       "Reviews                   -0.001729  1.000000 -0.109182  0.263560               -0.003530\n",
       "Price                     -0.133086 -0.109182  1.000000 -0.153979               -0.132978\n",
       "Year                       0.242383  0.263560 -0.153979  1.000000                0.241403\n",
       "Calificación ponderada     0.999949 -0.003530 -0.132978  0.241403                1.000000"
      ]
     },
     "execution_count": 88,
     "metadata": {},
     "output_type": "execute_result"
    }
   ],
   "source": [
    "book.corr()"
   ]
  },
  {
   "cell_type": "code",
   "execution_count": 89,
   "metadata": {},
   "outputs": [
    {
     "data": {
      "text/plain": [
       "<AxesSubplot:>"
      ]
     },
     "execution_count": 89,
     "metadata": {},
     "output_type": "execute_result"
    },
    {
     "data": {
      "image/png": "[encoded data removed]",
      "text/plain": [
       "<Figure size 1152x864 with 2 Axes>"
      ]
     },
     "metadata": {
      "needs_background": "light"
     },
     "output_type": "display_data"
    }
   ],
   "source": [
    "fig, ax = plt.subplots(figsize=(16, 12))\n",
    "sns.heatmap(book.corr(),annot=True,ax=ax)"
   ]
  },
  {
   "cell_type": "markdown",
   "metadata": {},
   "source": [
    "Vemos que no queda claro en ninguna combiniación de correlación."
   ]
  }
 ],
 "metadata": {
  "kernelspec": {
   "display_name": "Python 3",
   "language": "python",
   "name": "python3"
  },
  "language_info": {
   "codemirror_mode": {
    "name": "ipython",
    "version": 3
   },
   "file_extension": ".py",
   "mimetype": "text/x-python",
   "name": "python",
   "nbconvert_exporter": "python",
   "pygments_lexer": "ipython3",
   "version": "3.7.3"
  }
 },
 "nbformat": 4,
 "nbformat_minor": 4
}
